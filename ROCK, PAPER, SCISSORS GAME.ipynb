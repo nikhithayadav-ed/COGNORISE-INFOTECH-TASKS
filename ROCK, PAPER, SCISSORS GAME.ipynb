{
 "cells": [
  {
   "cell_type": "code",
   "execution_count": 3,
   "id": "456b69a0-14fc-4821-a30f-88f8ad696cf9",
   "metadata": {},
   "outputs": [
    {
     "name": "stdout",
     "output_type": "stream",
     "text": [
      "Welcome to Rock, Paper, Scissors!\n",
      "Type 'rock', 'paper', or 'scissors' to make your choice.\n",
      "Type 'exit' to quit the game.\n"
     ]
    },
    {
     "name": "stdin",
     "output_type": "stream",
     "text": [
      "Enter rock, paper, or scissors:  rock\n"
     ]
    },
    {
     "name": "stdout",
     "output_type": "stream",
     "text": [
      "\n",
      "You chose: rock\n",
      "Computer chose: scissors\n",
      "You win!\n",
      "Score: You 1 - Computer 0\n"
     ]
    },
    {
     "name": "stdin",
     "output_type": "stream",
     "text": [
      "Do you want to play again? (yes/no):  n\n"
     ]
    },
    {
     "name": "stdout",
     "output_type": "stream",
     "text": [
      "Thanks for playing!\n"
     ]
    }
   ],
   "source": [
    "import random\n",
    "\n",
    "class RockPaperScissorsGame:\n",
    "    def __init__(self):\n",
    "        self.choices = ['rock', 'paper', 'scissors']\n",
    "        self.user_score = 0\n",
    "        self.computer_score = 0\n",
    "\n",
    "    def get_user_choice(self):\n",
    "        user_input = input(\"Enter rock, paper, or scissors: \").lower()\n",
    "        while user_input not in self.choices:\n",
    "            print(\"Invalid choice. Please try again.\")\n",
    "            user_input = input(\"Enter rock, paper, or scissors: \").lower()\n",
    "        return user_input\n",
    "\n",
    "    def get_computer_choice(self):\n",
    "        return random.choice(self.choices)\n",
    "\n",
    "    def determine_winner(self, user_choice, computer_choice):\n",
    "        if user_choice == computer_choice:\n",
    "            return \"tie\"\n",
    "        elif (user_choice == \"rock\" and computer_choice == \"scissors\") or \\\n",
    "             (user_choice == \"scissors\" and computer_choice == \"paper\") or \\\n",
    "             (user_choice == \"paper\" and computer_choice == \"rock\"):\n",
    "            return \"win\"\n",
    "        else:\n",
    "            return \"lose\"\n",
    "\n",
    "    def display_result(self, user_choice, computer_choice, result):\n",
    "        print(f\"\\nYou chose: {user_choice}\")\n",
    "        print(f\"Computer chose: {computer_choice}\")\n",
    "        if result == \"win\":\n",
    "            print(\"You win!\")\n",
    "        elif result == \"lose\":\n",
    "            print(\"You lose!\")\n",
    "        else:\n",
    "            print(\"It's a tie!\")\n",
    "\n",
    "    def play_round(self):\n",
    "        user_choice = self.get_user_choice()\n",
    "        computer_choice = self.get_computer_choice()\n",
    "        result = self.determine_winner(user_choice, computer_choice)\n",
    "        \n",
    "        if result == \"win\":\n",
    "            self.user_score += 1\n",
    "        elif result == \"lose\":\n",
    "            self.computer_score += 1\n",
    "\n",
    "        self.display_result(user_choice, computer_choice, result)\n",
    "        print(f\"Score: You {self.user_score} - Computer {self.computer_score}\")\n",
    "\n",
    "    def play_game(self):\n",
    "        print(\"Welcome to Rock, Paper, Scissors!\")\n",
    "        print(\"Type 'rock', 'paper', or 'scissors' to make your choice.\")\n",
    "        print(\"Type 'exit' to quit the game.\")\n",
    "\n",
    "        while True:\n",
    "            self.play_round()\n",
    "            play_again = input(\"Do you want to play again? (yes/no): \").lower()\n",
    "            if play_again != \"yes\":\n",
    "                print(\"Thanks for playing!\")\n",
    "                break\n",
    "\n",
    "if __name__ == \"__main__\":\n",
    "    game = RockPaperScissorsGame()\n",
    "    game.play_game()"
   ]
  }
 ],
 "metadata": {
  "kernelspec": {
   "display_name": "Python 3 (ipykernel)",
   "language": "python",
   "name": "python3"
  },
  "language_info": {
   "codemirror_mode": {
    "name": "ipython",
    "version": 3
   },
   "file_extension": ".py",
   "mimetype": "text/x-python",
   "name": "python",
   "nbconvert_exporter": "python",
   "pygments_lexer": "ipython3",
   "version": "3.12.2"
  }
 },
 "nbformat": 4,
 "nbformat_minor": 5
}

{
 "cells": [
  {
   "cell_type": "code",
   "execution_count": null,
   "id": "27876f93-c27a-4c4e-845c-a008102207b1",
   "metadata": {},
   "outputs": [
    {
     "name": "stdin",
     "output_type": "stream",
     "text": [
      "Enter the desired password length:  12\n"
     ]
    }
   ],
   "source": [
    "import random\n",
    "import string\n",
    "\n",
    "def generate_password(length, use_letters, use_numbers, use_special_chars):\n",
    "    \n",
    "    characters = ''\n",
    "    if use_letters:\n",
    "        characters += string.ascii_letters\n",
    "    if use_numbers:\n",
    "        characters += string.digits\n",
    "    if use_special_chars:\n",
    "        characters += string.punctuation\n",
    "\n",
    "    if not characters:\n",
    "        return \"Error: No character types selected. Please select at least one option.\"\n",
    "\n",
    "    # Generate the password\n",
    "    password = ''.join(random.choice(characters) for _ in range(length))\n",
    "    return password\n",
    "\n",
    "def main():\n",
    "    try:\n",
    "        # Prompt user for password length\n",
    "        length = int(input(\"Enter the desired password length: \"))\n",
    "        \n",
    "        # Ensure the length is positive\n",
    "        if length <= 8:\n",
    "            print(\"Please enter a positive number for the password length.\")\n",
    "            return\n",
    "\n",
    "        # Ask the user to include different character types\n",
    "        use_letters = input(\"Include letters? (y/n): \").strip().lower() == 'y'\n",
    "        use_numbers = input(\"Include numbers? (y/n): \").strip().lower() == 'y'\n",
    "        use_special_chars = input(\"Include special characters? (y/n): \").strip().lower() == 'y'\n",
    "\n",
    "        # Generate the password\n",
    "        password = generate_password(length, use_letters, use_numbers, use_special_chars)\n",
    "\n",
    "        if \"Error\" in password:\n",
    "            print(password)\n",
    "            return\n",
    "        \n",
    "        # Display the generated password\n",
    "        print(f\"Generated password: {password}\")\n",
    "        \n",
    "    except ValueError:\n",
    "        print(\"Please enter a valid number for the password length.\")\n",
    "\n",
    "if __name__ == \"__main__\":\n",
    "    main()"
   ]
  },
  {
   "cell_type": "code",
   "execution_count": null,
   "id": "bb9df5f5-e4c0-4ba5-85dd-ad454d2d6dc2",
   "metadata": {},
   "outputs": [],
   "source": []
  }
 ],
 "metadata": {
  "kernelspec": {
   "display_name": "Python 3 (ipykernel)",
   "language": "python",
   "name": "python3"
  },
  "language_info": {
   "codemirror_mode": {
    "name": "ipython",
    "version": 3
   },
   "file_extension": ".py",
   "mimetype": "text/x-python",
   "name": "python",
   "nbconvert_exporter": "python",
   "pygments_lexer": "ipython3",
   "version": "3.12.2"
  }
 },
 "nbformat": 4,
 "nbformat_minor": 5
}

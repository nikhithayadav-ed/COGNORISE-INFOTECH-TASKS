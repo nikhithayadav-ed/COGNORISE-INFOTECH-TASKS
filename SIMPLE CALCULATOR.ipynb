{
 "cells": [
  {
   "cell_type": "code",
   "execution_count": 2,
   "id": "dbd1875e-fefa-4216-a194-a6c0ccd3e7f8",
   "metadata": {},
   "outputs": [
    {
     "name": "stdout",
     "output_type": "stream",
     "text": [
      "Simple Calculator\n",
      "Select operation:\n",
      "1. Addition\n",
      "2. Subtraction\n",
      "3. Multiplication\n",
      "4. Division\n",
      "The result of Multiplication between 14.0 and 5.0 is: 70.0\n"
     ]
    }
   ],
   "source": [
    "def calculator():\n",
    "    print(\"Simple Calculator\")\n",
    "    print(\"Select operation:\")\n",
    "    print(\"1. Addition\")\n",
    "    print(\"2. Subtraction\")\n",
    "    print(\"3. Multiplication\")\n",
    "    print(\"4. Division\")\n",
    "\n",
    "    operation = input(\"Enter choice (1/2/3/4): \")\n",
    "\n",
    "    if operation not in ['1', '2', '3', '4']:\n",
    "        print(\"Invalid operation choice. Please choose a valid option.\")\n",
    "        return\n",
    "\n",
    "    try:\n",
    "        num1 = float(input(\"Enter the first number: \"))\n",
    "        num2 = float(input(\"Enter the second number: \"))\n",
    "    except ValueError:\n",
    "        print(\"Invalid input. Please enter numeric values.\")\n",
    "        return\n",
    "\n",
    "    if operation == '1':\n",
    "        result = num1 + num2\n",
    "        operation_name = \"Addition\"\n",
    "    elif operation == '2':\n",
    "        result = num1 - num2\n",
    "        operation_name = \"Subtraction\"\n",
    "    elif operation == '3':\n",
    "        result = num1 * num2\n",
    "        operation_name = \"Multiplication\"\n",
    "    elif operation == '4':\n",
    "        if num2 == 0:\n",
    "            print(\"Division by zero is not allowed.\")\n",
    "            return\n",
    "        result = num1 / num2\n",
    "        operation_name = \"Division\"\n",
    "\n",
    "    print(\"The result of \" + operation_name + \" between \" + str(num1) + \" and \" + str(num2) + \" is: \" + str(result))\n",
    "\n",
    "calculator()"
   ]
  },
  {
   "cell_type": "code",
   "execution_count": null,
   "id": "65dc0574-07ec-429f-a983-4dedf6f7e2d2",
   "metadata": {},
   "outputs": [],
   "source": []
  }
 ],
 "metadata": {
  "kernelspec": {
   "display_name": "Python 3 (ipykernel)",
   "language": "python",
   "name": "python3"
  },
  "language_info": {
   "codemirror_mode": {
    "name": "ipython",
    "version": 3
   },
   "file_extension": ".py",
   "mimetype": "text/x-python",
   "name": "python",
   "nbconvert_exporter": "python",
   "pygments_lexer": "ipython3",
   "version": "3.12.2"
  }
 },
 "nbformat": 4,
 "nbformat_minor": 5
}
